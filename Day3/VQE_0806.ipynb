{
 "cells": [
  {
   "cell_type": "code",
   "execution_count": 1,
   "metadata": {
    "scrolled": true
   },
   "outputs": [],
   "source": [
    "from qiskit.quantum_info import Operator\n",
    "from qiskit.aqua.operators import WeightedPauliOperator,  X, Z, I"
   ]
  },
  {
   "cell_type": "markdown",
   "metadata": {},
   "source": [
    "## <center>  $H=\\begin{pmatrix}−0.2524859 &  0.18121 \\\\ 0.18121 &−1.8318639  \\end{pmatrix}= \\\\-1.0421749I+ 0.789689Z+ 0.181210X. $ <center> "
   ]
  },
  {
   "cell_type": "code",
   "execution_count": 2,
   "metadata": {},
   "outputs": [],
   "source": [
    "pauli_dict = {\n",
    "    'paulis': [{\"coeff\": {\"imag\": 0.0, \"real\": -1.0421749}, \"label\": \"I\"},\n",
    "              {\"coeff\": {\"imag\": 0.0, \"real\": 0.789689}, \"label\": \"Z\"},\n",
    "              {\"coeff\": {\"imag\": 0.0, \"real\": 0.181210}, \"label\": \"X\"}\n",
    "              ]\n",
    "}\n",
    "qubit_op = WeightedPauliOperator.from_dict(pauli_dict)"
   ]
  },
  {
   "cell_type": "code",
   "execution_count": 3,
   "metadata": {},
   "outputs": [
    {
     "name": "stdout",
     "output_type": "stream",
     "text": [
      "I\t(-1.0421749+0j)\n",
      "Z\t(0.789689+0j)\n",
      "X\t(0.18121+0j)\n",
      "\n"
     ]
    }
   ],
   "source": [
    "print(qubit_op.print_details())"
   ]
  },
  {
   "cell_type": "code",
   "execution_count": 4,
   "metadata": {},
   "outputs": [],
   "source": [
    "from qiskit import QuantumCircuit, ClassicalRegister, QuantumRegister, execute\n",
    "from qiskit.circuit import ParameterVector\n",
    "from qiskit.tools.visualization import circuit_drawer\n",
    "from math import pi"
   ]
  },
  {
   "cell_type": "code",
   "execution_count": 5,
   "metadata": {},
   "outputs": [],
   "source": [
    "def ansatz(theta):\n",
    "    test=QuantumCircuit(1)\n",
    "    test.ry(theta,0)\n",
    "    return test"
   ]
  },
  {
   "cell_type": "code",
   "execution_count": 6,
   "metadata": {},
   "outputs": [
    {
     "data": {
      "image/png": "[encoded data removed]",
      "text/plain": [
       "<Figure size 173.376x84.28 with 1 Axes>"
      ]
     },
     "execution_count": 6,
     "metadata": {},
     "output_type": "execute_result"
    }
   ],
   "source": [
    "from qiskit.circuit import Parameter\n",
    "theta = Parameter('θ')\n",
    "var_circ=ansatz(theta)\n",
    "var_circ.draw(output='mpl',plot_barriers=0)"
   ]
  },
  {
   "cell_type": "code",
   "execution_count": 7,
   "metadata": {},
   "outputs": [],
   "source": [
    "from qiskit.aqua import QuantumInstance\n",
    "from qiskit.aqua.algorithms import VQE, NumPyMinimumEigensolver ,ExactEigensolver\n",
    "from qiskit.aqua.components.optimizers import COBYLA\n",
    "from qiskit import Aer"
   ]
  },
  {
   "cell_type": "code",
   "execution_count": 8,
   "metadata": {},
   "outputs": [],
   "source": [
    "optimizer = COBYLA(maxiter=100)\n",
    "backend = Aer.get_backend('statevector_simulator')\n",
    "vqe = VQE(operator=qubit_op, optimizer=optimizer, quantum_instance=backend)"
   ]
  },
  {
   "cell_type": "code",
   "execution_count": 9,
   "metadata": {
    "scrolled": true
   },
   "outputs": [
    {
     "name": "stdout",
     "output_type": "stream",
     "text": [
      "VQE: -1.8523883136876\n"
     ]
    }
   ],
   "source": [
    "vqe.var_form = var_circ\n",
    "result = vqe.compute_minimum_eigenvalue()\n",
    "print('VQE:', result.eigenvalue.real)"
   ]
  },
  {
   "cell_type": "markdown",
   "metadata": {},
   "source": [
    "### Solution"
   ]
  },
  {
   "cell_type": "code",
   "execution_count": 10,
   "metadata": {},
   "outputs": [],
   "source": [
    "shot=10000\n",
    "simulator = Aer.get_backend('qasm_simulator')\n",
    "import math\n",
    "\n",
    "def M(x0):\n",
    "    theta=x0[0]\n",
    "    M=-1.0421749\n",
    "    ####caculate the expectation value of 0.789689𝑍\n",
    "    qr = QuantumRegister(1) # initiate the circuit\n",
    "    cr = ClassicalRegister(1) #\n",
    "    Cix= QuantumCircuit(qr, cr) #\n",
    "    #Cix.x(0) initial in |1>\n",
    "    Cix.ry(theta,0) #the ansatz \n",
    "    Cix.measure(0,0)       \n",
    "    job = execute(Cix, simulator, shots=shot) \n",
    "    result = job.result().get_counts()#collect the data\n",
    "    \n",
    "    P_0=result.get('0',0)/shot\n",
    "    P_1=result.get('1',0)/shot\n",
    "    temp=P_0-P_1  \n",
    "    #temp is the expectation value of Z\n",
    "    M+=temp*0.789689\n",
    "    \n",
    "    ####caculate the expectation value of 0.181210𝑋\n",
    "    qr = QuantumRegister(1)\n",
    "    cr = ClassicalRegister(1)\n",
    "    Cix= QuantumCircuit(qr, cr)\n",
    "    #Cix.x(0)  initial in |1>\n",
    "    Cix.ry(theta,0)# the ansatz\n",
    "    Cix.ry(-math.pi/2,0)# rotate the measurement frame\n",
    "    Cix.measure(0,0)       \n",
    "    job = execute(Cix, simulator, shots=shot) \n",
    "    result = job.result().get_counts()\n",
    "        \n",
    "    P_0=result.get('0',0)/shot\n",
    "    P_1=result.get('1',0)/shot\n",
    "    temp=P_0-P_1 \n",
    "    #temp is the expectation value of X    \n",
    "    M+=temp*0.181210\n",
    "    return M"
   ]
  },
  {
   "cell_type": "code",
   "execution_count": 11,
   "metadata": {},
   "outputs": [
    {
     "data": {
      "text/plain": [
       "     fun: -1.8511889852\n",
       "   maxcv: 0.0\n",
       " message: 'Optimization terminated successfully.'\n",
       "    nfev: 22\n",
       "  status: 1\n",
       " success: True\n",
       "       x: array([3.328225])"
      ]
     },
     "execution_count": 11,
     "metadata": {},
     "output_type": "execute_result"
    }
   ],
   "source": [
    "from scipy.optimize import minimize\n",
    "initial_guess=[0]\n",
    "\n",
    "ans=minimize(M,initial_guess,method='COBYLA')\n",
    "ans"
   ]
  }
 ],
 "metadata": {
  "kernelspec": {
   "display_name": "Python 3",
   "language": "python",
   "name": "python3"
  },
  "language_info": {
   "codemirror_mode": {
    "name": "ipython",
    "version": 3
   },
   "file_extension": ".py",
   "mimetype": "text/x-python",
   "name": "python",
   "nbconvert_exporter": "python",
   "pygments_lexer": "ipython3",
   "version": "3.7.7"
  }
 },
 "nbformat": 4,
 "nbformat_minor": 4
}
