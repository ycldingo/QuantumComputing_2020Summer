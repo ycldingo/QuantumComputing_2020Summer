{
 "cells": [
  {
   "cell_type": "markdown",
   "metadata": {},
   "source": [
    "#### Qiskit Version Table"
   ]
  },
  {
   "cell_type": "code",
   "execution_count": 1,
   "metadata": {},
   "outputs": [
    {
     "data": {
      "text/html": [
       "<h3>Version Information</h3><table><tr><th>Qiskit Software</th><th>Version</th></tr><tr><td>Qiskit</td><td>0.19.6</td></tr><tr><td>Terra</td><td>0.14.2</td></tr><tr><td>Aer</td><td>0.5.2</td></tr><tr><td>Ignis</td><td>0.3.3</td></tr><tr><td>Aqua</td><td>0.7.3</td></tr><tr><td>IBM Q Provider</td><td>0.7.2</td></tr><tr><th>System information</th></tr><tr><td>Python</td><td>3.7.7 (default, May  7 2020, 21:25:33) \n",
       "[GCC 7.3.0]</td></tr><tr><td>OS</td><td>Linux</td></tr><tr><td>CPUs</td><td>6</td></tr><tr><td>Memory (Gb)</td><td>251.8483543395996</td></tr><tr><td colspan='2'>Tue Jul 21 16:12:10 2020 CST</td></tr></table>"
      ],
      "text/plain": [
       "<IPython.core.display.HTML object>"
      ]
     },
     "metadata": {},
     "output_type": "display_data"
    }
   ],
   "source": [
    "import qiskit.tools.jupyter\n",
    "%qiskit_version_table"
   ]
  },
  {
   "cell_type": "code",
   "execution_count": 2,
   "metadata": {},
   "outputs": [],
   "source": [
    "from qiskit import QuantumCircuit, execute\n",
    "from qiskit import Aer\n",
    "import numpy as np"
   ]
  },
  {
   "cell_type": "markdown",
   "metadata": {},
   "source": [
    "## VQE: A Simple Example "
   ]
  },
  {
   "cell_type": "markdown",
   "metadata": {},
   "source": [
    "Suppose we want to find the minimal eigenvalue of given Hamiltonian "
   ]
  },
  {
   "cell_type": "markdown",
   "metadata": {},
   "source": [
    "## <center>  $H=\\begin{pmatrix}1 & 0 \\\\ 0 &-1  \\end{pmatrix}$ <center> "
   ]
  },
  {
   "cell_type": "markdown",
   "metadata": {},
   "source": [
    "Remerber we need to follow the three step: \n",
    "### * 1. Ansatz Construction (State Preparation)\n",
    "### * 2. Measure Expectation Value\n",
    "### * 3. Optimization"
   ]
  },
  {
   "cell_type": "markdown",
   "metadata": {},
   "source": [
    "### Step 1: Ansatz Construction"
   ]
  },
  {
   "cell_type": "markdown",
   "metadata": {},
   "source": [
    "Review of Rotation gate"
   ]
  },
  {
   "cell_type": "markdown",
   "metadata": {},
   "source": [
    "#### Rotation around Y-axis"
   ]
  },
  {
   "cell_type": "markdown",
   "metadata": {},
   "source": [
    "#### <center> $R_y(\\theta)=\\begin{pmatrix}\\cos(\\theta/2) & - \\sin(\\theta/2)\\\\\\sin(\\theta/2) & \\cos(\\theta/2).\\end{pmatrix} =u3(\\theta,0,0)$"
   ]
  },
  {
   "cell_type": "code",
   "execution_count": 3,
   "metadata": {},
   "outputs": [],
   "source": [
    "def vqe_ansatz_1(theta):\n",
    "    # Create Quantum Circuit\n",
    "    ansatz=QuantumCircuit(1,1)\n",
    "    \n",
    "    # Apply Ry gate\n",
    "    ansatz.ry(theta,0)\n",
    "    \n",
    "    # Return Quantum Circuit\n",
    "    return ansatz"
   ]
  },
  {
   "cell_type": "markdown",
   "metadata": {},
   "source": [
    "After do that, the trial wave function (ansatz) becomes:"
   ]
  },
  {
   "cell_type": "markdown",
   "metadata": {},
   "source": [
    "### <center> $ | \\psi (\\theta) \\rangle=R_y(\\theta) | \\psi_0 \\rangle = \\begin{bmatrix}\\cos(\\theta/2)\\\\ \\sin(\\theta/2)\\end{bmatrix}$"
   ]
  },
  {
   "cell_type": "markdown",
   "metadata": {},
   "source": [
    "### Step 2 : Measure Expectation Value"
   ]
  },
  {
   "cell_type": "markdown",
   "metadata": {},
   "source": [
    "For Given Hamiltonian, \n",
    "the expectation value of $ \\langle \\psi (\\theta)  | H | \\psi (\\theta)  \\rangle =\\langle \\psi (\\theta)  | Z | \\psi (\\theta)  \\rangle$"
   ]
  },
  {
   "cell_type": "markdown",
   "metadata": {},
   "source": [
    "### $\\langle Z  \\rangle=\\begin{bmatrix}\\cos(\\frac{\\theta}{2}) & \\sin(\\frac{\\theta}{2})\\end{bmatrix}\\begin{bmatrix}1 & 0\\\\ 0 & -1\\end{bmatrix}\\begin{bmatrix}\\cos(\\theta/2)\\\\ \\sin(\\theta/2)\\end{bmatrix} =\\cos^2(\\frac{\\theta}{2})-\\sin^2(\\frac{\\theta}{2})$"
   ]
  },
  {
   "cell_type": "code",
   "execution_count": 4,
   "metadata": {},
   "outputs": [],
   "source": [
    "### Select simulator\n",
    "QC_simulator = Aer.get_backend('qasm_simulator')\n",
    "\n",
    "# Define number of measurments shots\n",
    "sample_shots=1000\n",
    "\n",
    "def expval(paras):\n",
    "    \n",
    "    # call ansatz \n",
    "    vqe=vqe_ansatz_1(paras)\n",
    "    \n",
    "    # measure in Z-basis\n",
    "    vqe.measure([0],[0])\n",
    "    \n",
    "    # Compile and execute\n",
    "    job_qasm = execute(vqe, QC_simulator,shots=sample_shots)\n",
    "    result_sim = job_qasm.result().get_counts()    \n",
    "\n",
    "    # Calculate expectation\n",
    "    P_0=result_sim.get('0',0)/sample_shots\n",
    "    P_1=result_sim.get('1',0)/sample_shots\n",
    "    vqe_ans=P_0-P_1\n",
    "    \n",
    "    return vqe_ans"
   ]
  },
  {
   "cell_type": "markdown",
   "metadata": {},
   "source": [
    "### Step 3 : Oprimization"
   ]
  },
  {
   "cell_type": "markdown",
   "metadata": {},
   "source": [
    "Due to the variational principle, we have\n",
    "\n",
    "$$E(\\boldsymbol\\theta)\\equiv  \\langle H \\rangle = \\langle \\psi(\\boldsymbol\\theta)| H |\\psi(\\boldsymbol\\theta)\\rangle \\ge E_0 = \\langle \\psi_0 | H | \\psi_0 \\rangle,$$ "
   ]
  },
  {
   "cell_type": "markdown",
   "metadata": {},
   "source": [
    "Since in this case, we have only one parameter $\\theta$, we can calculate the expectation value for $\\theta \\in [0,2\\pi]$ to find the lowest eigenvalue"
   ]
  },
  {
   "cell_type": "code",
   "execution_count": 5,
   "metadata": {
    "scrolled": true
   },
   "outputs": [
    {
     "data": {
      "image/png": "[encoded data removed]",
      "text/plain": [
       "<Figure size 432x288 with 1 Axes>"
      ]
     },
     "metadata": {
      "needs_background": "light"
     },
     "output_type": "display_data"
    }
   ],
   "source": [
    "theta_range = np.linspace(0.0, 2 * np.pi, 100)\n",
    "vqe_result=[expval(params) for params in theta_range]\n",
    "\n",
    "import matplotlib.pyplot as plt\n",
    "plt.xlabel('theta')\n",
    "plt.ylabel('Expectation value')\n",
    "plt.plot(theta_range, vqe_result)\n",
    "plt.show()"
   ]
  },
  {
   "cell_type": "markdown",
   "metadata": {},
   "source": [
    "#### Great! We find the lowest eigenvalue!"
   ]
  },
  {
   "cell_type": "code",
   "execution_count": 6,
   "metadata": {},
   "outputs": [
    {
     "name": "stdout",
     "output_type": "stream",
     "text": [
      "The lowest eigenvalue: -1.0 \t corresponding parameters: 3.1098593944626236\n"
     ]
    }
   ],
   "source": [
    "print(\"The lowest eigenvalue: {0} \\t corresponding parameters: {1}\".format(min(vqe_result),theta_range[vqe_result.index(min(vqe_result))]))"
   ]
  },
  {
   "cell_type": "markdown",
   "metadata": {},
   "source": [
    "#### Oprimizer Approach "
   ]
  },
  {
   "cell_type": "code",
   "execution_count": 7,
   "metadata": {
    "scrolled": true
   },
   "outputs": [
    {
     "data": {
      "text/plain": [
       "     fun: -0.998\n",
       "   maxcv: 0.0\n",
       " message: 'Optimization terminated successfully.'\n",
       "    nfev: 15\n",
       "  status: 1\n",
       " success: True\n",
       "       x: array([3.1251])"
      ]
     },
     "execution_count": 7,
     "metadata": {},
     "output_type": "execute_result"
    }
   ],
   "source": [
    "from scipy.optimize import minimize\n",
    "initial_guess=[0]\n",
    "\n",
    "ans=minimize(expval,initial_guess,method='COBYLA')\n",
    "ans"
   ]
  }
 ],
 "metadata": {
  "kernelspec": {
   "display_name": "Python 3",
   "language": "python",
   "name": "python3"
  },
  "language_info": {
   "codemirror_mode": {
    "name": "ipython",
    "version": 3
   },
   "file_extension": ".py",
   "mimetype": "text/x-python",
   "name": "python",
   "nbconvert_exporter": "python",
   "pygments_lexer": "ipython3",
   "version": "3.7.7"
  }
 },
 "nbformat": 4,
 "nbformat_minor": 4
}
